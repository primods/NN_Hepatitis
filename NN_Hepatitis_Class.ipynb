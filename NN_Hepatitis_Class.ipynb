{
  "nbformat": 4,
  "nbformat_minor": 0,
  "metadata": {
    "colab": {
      "name": "NN_Hepatitis_Class.ipynb",
      "provenance": [],
      "authorship_tag": "ABX9TyOj4/wdWAXvvwy6MGeXd73P",
      "include_colab_link": true
    },
    "kernelspec": {
      "name": "python3",
      "display_name": "Python 3"
    },
    "language_info": {
      "name": "python"
    }
  },
  "cells": [
    {
      "cell_type": "markdown",
      "metadata": {
        "id": "view-in-github",
        "colab_type": "text"
      },
      "source": [
        "<a href=\"https://colab.research.google.com/github/primods/NN_Hepatitis/blob/main/NN_Hepatitis_Class.ipynb\" target=\"_parent\"><img src=\"https://colab.research.google.com/assets/colab-badge.svg\" alt=\"Open In Colab\"/></a>"
      ]
    },
    {
      "cell_type": "code",
      "execution_count": 1,
      "metadata": {
        "id": "R6zmEa3sTEE8"
      },
      "outputs": [],
      "source": [
        "#Libs for Create a Neural Network and Data Manipulation\n",
        "import tensorflow as tf\n",
        "from tensorflow import keras\n",
        "from tensorflow.keras import layers\n",
        "\n",
        "from sklearn.model_selection import train_test_split\n",
        "from sklearn.preprocessing import Normalizer\n",
        "from sklearn.metrics import confusion_matrix\n",
        "from sklearn.metrics import ConfusionMatrixDisplay\n",
        "from sklearn.metrics import classification_report\n",
        "\n",
        "import numpy as np\n",
        "import matplotlib.pyplot as plt\n",
        "import pandas as pd\n",
        "import seaborn as sns\n",
        "\n",
        "#setting theme for seaborn/matplotlib plots\n",
        "sns.set()\n",
        "sns.set_palette('hls')"
      ]
    },
    {
      "cell_type": "code",
      "source": [
        "#Creating Dataframe from csv data and cleaning\n",
        "\n",
        "hep_data = pd.read_csv(\"HepatitisCdata.csv\").drop(\"Unnamed: 0\", axis=1)\n",
        "y_data = hep_data[\"Category\"]\n",
        "X_data = pd.get_dummies(hep_data.drop(\"Category\", axis=1))\n",
        "\n",
        "hep_data = X_data.join(y_data)\n",
        "\n",
        "#Categorical data to numerical, dropping suspect donors (only 7 entries) and NA values\n",
        "hep_data = hep_data[hep_data[\"Category\"] != \"0s=suspect Blood Donor\"].reset_index().drop(\"index\", axis=1)\n",
        "hep_data = hep_data.replace(list(hep_data[\"Category\"].unique()),np.linspace(1,4,4))\n",
        "\n",
        "hep_data.dropna(inplace=True)\n",
        "\n",
        "\n",
        "#Replace values to make the a Binary Classification problem\n",
        "hep_data[\"Category\"] = hep_data[\"Category\"].replace([2.0,3.0,4.0],2.0)\n"
      ],
      "metadata": {
        "id": "utJyE8d2TYRT"
      },
      "execution_count": 2,
      "outputs": []
    },
    {
      "cell_type": "code",
      "source": [
        "#Option to create a balanced data set\n",
        "\n",
        "dis_df = hep_data[hep_data[\"Category\"]==2.0]\n",
        "\n",
        "#heal_df = hep_data[hep_data[\"Category\"]==1.0].sample(len(dis_df)*2)\n",
        "heal_df = hep_data[hep_data[\"Category\"]==1.0]\n",
        "\n",
        "hep_data = pd.concat([dis_df,heal_df])"
      ],
      "metadata": {
        "id": "RUeBzQgfUBR0"
      },
      "execution_count": 3,
      "outputs": []
    },
    {
      "cell_type": "code",
      "source": [
        "#Splitting in X, y datasets and train, test sets\n",
        "\n",
        "X_values = hep_data.drop([\"Category\",\"Sex_f\",\"Sex_m\"], axis=1).values\n",
        "y_values = pd.get_dummies(hep_data[\"Category\"].values).values\n",
        "X_train, X_test, y_train, y_test = train_test_split(X_values, y_values,\n",
        "                                                    test_size=0.3, random_state=60,\n",
        "                                                    stratify=y_values)\n",
        "\n",
        "#Normalize the data\n",
        "\n",
        "X_train = Normalizer().fit_transform(X_train)\n",
        "X_test = Normalizer().transform(X_test)"
      ],
      "metadata": {
        "id": "j7fFCxXwUYMA"
      },
      "execution_count": 4,
      "outputs": []
    },
    {
      "cell_type": "code",
      "source": [
        "#Create the neural network model\n",
        "\n",
        "model = keras.Sequential(\n",
        "    [keras.Input(shape=11),\n",
        "     layers.Dense(8, activation=\"relu\"),\n",
        "     layers.Dense(6, activation=\"relu\"),\n",
        "     layers.Dense(2, activation=\"sigmoid\")\n",
        "    ])"
      ],
      "metadata": {
        "id": "rSSKYyeHUc-G"
      },
      "execution_count": 5,
      "outputs": []
    },
    {
      "cell_type": "code",
      "source": [
        "#Summary of the model\n",
        "model.summary()"
      ],
      "metadata": {
        "colab": {
          "base_uri": "https://localhost:8080/"
        },
        "id": "zOiNaJ4jVakg",
        "outputId": "4e2e1cf8-ae2e-484d-f736-4b2db77bc584"
      },
      "execution_count": 6,
      "outputs": [
        {
          "output_type": "stream",
          "name": "stdout",
          "text": [
            "Model: \"sequential\"\n",
            "_________________________________________________________________\n",
            " Layer (type)                Output Shape              Param #   \n",
            "=================================================================\n",
            " dense (Dense)               (None, 8)                 96        \n",
            "                                                                 \n",
            " dense_1 (Dense)             (None, 6)                 54        \n",
            "                                                                 \n",
            " dense_2 (Dense)             (None, 2)                 14        \n",
            "                                                                 \n",
            "=================================================================\n",
            "Total params: 164\n",
            "Trainable params: 164\n",
            "Non-trainable params: 0\n",
            "_________________________________________________________________\n"
          ]
        }
      ]
    },
    {
      "cell_type": "code",
      "source": [
        "#train and fit the model witch batch size of 10 and 100 epochs\n",
        "\n",
        "batch_size = 10\n",
        "epochs = 100\n",
        "\n",
        "model.compile(loss=\"categorical_crossentropy\", optimizer=\"adam\", metrics=[\"accuracy\"])\n",
        "\n",
        "model.fit(X_train, y_train, batch_size=batch_size, epochs=epochs, validation_split=0.2)"
      ],
      "metadata": {
        "colab": {
          "base_uri": "https://localhost:8080/"
        },
        "id": "OFx2YfY8VekO",
        "outputId": "9f8c3fac-44e8-4953-aa72-962a80b762b2"
      },
      "execution_count": 7,
      "outputs": [
        {
          "output_type": "stream",
          "name": "stdout",
          "text": [
            "Epoch 1/100\n",
            "33/33 [==============================] - 2s 26ms/step - loss: 0.7238 - accuracy: 0.2862 - val_loss: 0.6708 - val_accuracy: 0.8659\n",
            "Epoch 2/100\n",
            "33/33 [==============================] - 1s 23ms/step - loss: 0.6329 - accuracy: 0.9200 - val_loss: 0.6068 - val_accuracy: 0.8780\n",
            "Epoch 3/100\n",
            "33/33 [==============================] - 0s 15ms/step - loss: 0.5691 - accuracy: 0.9138 - val_loss: 0.5506 - val_accuracy: 0.8780\n",
            "Epoch 4/100\n",
            "33/33 [==============================] - 0s 9ms/step - loss: 0.5081 - accuracy: 0.9108 - val_loss: 0.4943 - val_accuracy: 0.8780\n",
            "Epoch 5/100\n",
            "33/33 [==============================] - 0s 7ms/step - loss: 0.4448 - accuracy: 0.9108 - val_loss: 0.4404 - val_accuracy: 0.8780\n",
            "Epoch 6/100\n",
            "33/33 [==============================] - 0s 5ms/step - loss: 0.3855 - accuracy: 0.9108 - val_loss: 0.3976 - val_accuracy: 0.8780\n",
            "Epoch 7/100\n",
            "33/33 [==============================] - 0s 8ms/step - loss: 0.3429 - accuracy: 0.9108 - val_loss: 0.3713 - val_accuracy: 0.8780\n",
            "Epoch 8/100\n",
            "33/33 [==============================] - 0s 7ms/step - loss: 0.3142 - accuracy: 0.9108 - val_loss: 0.3564 - val_accuracy: 0.8780\n",
            "Epoch 9/100\n",
            "33/33 [==============================] - 0s 6ms/step - loss: 0.2982 - accuracy: 0.9108 - val_loss: 0.3477 - val_accuracy: 0.8780\n",
            "Epoch 10/100\n",
            "33/33 [==============================] - 0s 8ms/step - loss: 0.2881 - accuracy: 0.9108 - val_loss: 0.3389 - val_accuracy: 0.8780\n",
            "Epoch 11/100\n",
            "33/33 [==============================] - 0s 9ms/step - loss: 0.2783 - accuracy: 0.9108 - val_loss: 0.3252 - val_accuracy: 0.8780\n",
            "Epoch 12/100\n",
            "33/33 [==============================] - 0s 4ms/step - loss: 0.2658 - accuracy: 0.9108 - val_loss: 0.3060 - val_accuracy: 0.8780\n",
            "Epoch 13/100\n",
            "33/33 [==============================] - 0s 5ms/step - loss: 0.2521 - accuracy: 0.9108 - val_loss: 0.2833 - val_accuracy: 0.8780\n",
            "Epoch 14/100\n",
            "33/33 [==============================] - 0s 6ms/step - loss: 0.2378 - accuracy: 0.9108 - val_loss: 0.2600 - val_accuracy: 0.8780\n",
            "Epoch 15/100\n",
            "33/33 [==============================] - 0s 5ms/step - loss: 0.2219 - accuracy: 0.9138 - val_loss: 0.2350 - val_accuracy: 0.8780\n",
            "Epoch 16/100\n",
            "33/33 [==============================] - 0s 4ms/step - loss: 0.2064 - accuracy: 0.9169 - val_loss: 0.2099 - val_accuracy: 0.8780\n",
            "Epoch 17/100\n",
            "33/33 [==============================] - 0s 5ms/step - loss: 0.1894 - accuracy: 0.9169 - val_loss: 0.1857 - val_accuracy: 0.8902\n",
            "Epoch 18/100\n",
            "33/33 [==============================] - 0s 4ms/step - loss: 0.1722 - accuracy: 0.9354 - val_loss: 0.1614 - val_accuracy: 0.9268\n",
            "Epoch 19/100\n",
            "33/33 [==============================] - 0s 5ms/step - loss: 0.1570 - accuracy: 0.9446 - val_loss: 0.1419 - val_accuracy: 0.9390\n",
            "Epoch 20/100\n",
            "33/33 [==============================] - 0s 6ms/step - loss: 0.1442 - accuracy: 0.9446 - val_loss: 0.1273 - val_accuracy: 0.9634\n",
            "Epoch 21/100\n",
            "33/33 [==============================] - 0s 6ms/step - loss: 0.1311 - accuracy: 0.9477 - val_loss: 0.1092 - val_accuracy: 0.9634\n",
            "Epoch 22/100\n",
            "33/33 [==============================] - 0s 6ms/step - loss: 0.1219 - accuracy: 0.9538 - val_loss: 0.0997 - val_accuracy: 0.9634\n",
            "Epoch 23/100\n",
            "33/33 [==============================] - 0s 4ms/step - loss: 0.1156 - accuracy: 0.9600 - val_loss: 0.0886 - val_accuracy: 0.9634\n",
            "Epoch 24/100\n",
            "33/33 [==============================] - 0s 5ms/step - loss: 0.1071 - accuracy: 0.9631 - val_loss: 0.0807 - val_accuracy: 0.9634\n",
            "Epoch 25/100\n",
            "33/33 [==============================] - 0s 4ms/step - loss: 0.1014 - accuracy: 0.9631 - val_loss: 0.0731 - val_accuracy: 0.9634\n",
            "Epoch 26/100\n",
            "33/33 [==============================] - 0s 5ms/step - loss: 0.0966 - accuracy: 0.9662 - val_loss: 0.0684 - val_accuracy: 0.9634\n",
            "Epoch 27/100\n",
            "33/33 [==============================] - 0s 7ms/step - loss: 0.0923 - accuracy: 0.9631 - val_loss: 0.0631 - val_accuracy: 0.9756\n",
            "Epoch 28/100\n",
            "33/33 [==============================] - 0s 4ms/step - loss: 0.0890 - accuracy: 0.9631 - val_loss: 0.0580 - val_accuracy: 0.9878\n",
            "Epoch 29/100\n",
            "33/33 [==============================] - 0s 7ms/step - loss: 0.0858 - accuracy: 0.9692 - val_loss: 0.0545 - val_accuracy: 1.0000\n",
            "Epoch 30/100\n",
            "33/33 [==============================] - 0s 6ms/step - loss: 0.0826 - accuracy: 0.9723 - val_loss: 0.0518 - val_accuracy: 0.9878\n",
            "Epoch 31/100\n",
            "33/33 [==============================] - 0s 5ms/step - loss: 0.0811 - accuracy: 0.9692 - val_loss: 0.0487 - val_accuracy: 1.0000\n",
            "Epoch 32/100\n",
            "33/33 [==============================] - 0s 5ms/step - loss: 0.0802 - accuracy: 0.9692 - val_loss: 0.0463 - val_accuracy: 1.0000\n",
            "Epoch 33/100\n",
            "33/33 [==============================] - 0s 6ms/step - loss: 0.0762 - accuracy: 0.9692 - val_loss: 0.0439 - val_accuracy: 1.0000\n",
            "Epoch 34/100\n",
            "33/33 [==============================] - 0s 7ms/step - loss: 0.0744 - accuracy: 0.9692 - val_loss: 0.0423 - val_accuracy: 1.0000\n",
            "Epoch 35/100\n",
            "33/33 [==============================] - 0s 7ms/step - loss: 0.0753 - accuracy: 0.9662 - val_loss: 0.0409 - val_accuracy: 1.0000\n",
            "Epoch 36/100\n",
            "33/33 [==============================] - 0s 7ms/step - loss: 0.0715 - accuracy: 0.9692 - val_loss: 0.0384 - val_accuracy: 1.0000\n",
            "Epoch 37/100\n",
            "33/33 [==============================] - 0s 6ms/step - loss: 0.0697 - accuracy: 0.9692 - val_loss: 0.0366 - val_accuracy: 1.0000\n",
            "Epoch 38/100\n",
            "33/33 [==============================] - 0s 4ms/step - loss: 0.0681 - accuracy: 0.9723 - val_loss: 0.0353 - val_accuracy: 1.0000\n",
            "Epoch 39/100\n",
            "33/33 [==============================] - 0s 5ms/step - loss: 0.0666 - accuracy: 0.9723 - val_loss: 0.0338 - val_accuracy: 1.0000\n",
            "Epoch 40/100\n",
            "33/33 [==============================] - 0s 5ms/step - loss: 0.0654 - accuracy: 0.9723 - val_loss: 0.0325 - val_accuracy: 1.0000\n",
            "Epoch 41/100\n",
            "33/33 [==============================] - 0s 5ms/step - loss: 0.0644 - accuracy: 0.9692 - val_loss: 0.0314 - val_accuracy: 1.0000\n",
            "Epoch 42/100\n",
            "33/33 [==============================] - 0s 5ms/step - loss: 0.0633 - accuracy: 0.9754 - val_loss: 0.0300 - val_accuracy: 1.0000\n",
            "Epoch 43/100\n",
            "33/33 [==============================] - 0s 6ms/step - loss: 0.0623 - accuracy: 0.9723 - val_loss: 0.0293 - val_accuracy: 1.0000\n",
            "Epoch 44/100\n",
            "33/33 [==============================] - 0s 6ms/step - loss: 0.0608 - accuracy: 0.9785 - val_loss: 0.0283 - val_accuracy: 1.0000\n",
            "Epoch 45/100\n",
            "33/33 [==============================] - 0s 4ms/step - loss: 0.0607 - accuracy: 0.9754 - val_loss: 0.0277 - val_accuracy: 1.0000\n",
            "Epoch 46/100\n",
            "33/33 [==============================] - 0s 7ms/step - loss: 0.0593 - accuracy: 0.9785 - val_loss: 0.0266 - val_accuracy: 1.0000\n",
            "Epoch 47/100\n",
            "33/33 [==============================] - 0s 7ms/step - loss: 0.0588 - accuracy: 0.9785 - val_loss: 0.0259 - val_accuracy: 1.0000\n",
            "Epoch 48/100\n",
            "33/33 [==============================] - 0s 7ms/step - loss: 0.0567 - accuracy: 0.9815 - val_loss: 0.0250 - val_accuracy: 1.0000\n",
            "Epoch 49/100\n",
            "33/33 [==============================] - 0s 7ms/step - loss: 0.0565 - accuracy: 0.9785 - val_loss: 0.0241 - val_accuracy: 1.0000\n",
            "Epoch 50/100\n",
            "33/33 [==============================] - 0s 8ms/step - loss: 0.0551 - accuracy: 0.9785 - val_loss: 0.0237 - val_accuracy: 1.0000\n",
            "Epoch 51/100\n",
            "33/33 [==============================] - 0s 7ms/step - loss: 0.0547 - accuracy: 0.9785 - val_loss: 0.0231 - val_accuracy: 1.0000\n",
            "Epoch 52/100\n",
            "33/33 [==============================] - 0s 8ms/step - loss: 0.0529 - accuracy: 0.9785 - val_loss: 0.0225 - val_accuracy: 1.0000\n",
            "Epoch 53/100\n",
            "33/33 [==============================] - 0s 8ms/step - loss: 0.0531 - accuracy: 0.9815 - val_loss: 0.0218 - val_accuracy: 1.0000\n",
            "Epoch 54/100\n",
            "33/33 [==============================] - 0s 7ms/step - loss: 0.0517 - accuracy: 0.9815 - val_loss: 0.0218 - val_accuracy: 1.0000\n",
            "Epoch 55/100\n",
            "33/33 [==============================] - 0s 8ms/step - loss: 0.0527 - accuracy: 0.9815 - val_loss: 0.0212 - val_accuracy: 1.0000\n",
            "Epoch 56/100\n",
            "33/33 [==============================] - 0s 8ms/step - loss: 0.0502 - accuracy: 0.9815 - val_loss: 0.0206 - val_accuracy: 1.0000\n",
            "Epoch 57/100\n",
            "33/33 [==============================] - 0s 7ms/step - loss: 0.0493 - accuracy: 0.9815 - val_loss: 0.0203 - val_accuracy: 1.0000\n",
            "Epoch 58/100\n",
            "33/33 [==============================] - 0s 11ms/step - loss: 0.0484 - accuracy: 0.9815 - val_loss: 0.0194 - val_accuracy: 1.0000\n",
            "Epoch 59/100\n",
            "33/33 [==============================] - 0s 13ms/step - loss: 0.0478 - accuracy: 0.9815 - val_loss: 0.0194 - val_accuracy: 1.0000\n",
            "Epoch 60/100\n",
            "33/33 [==============================] - 0s 6ms/step - loss: 0.0473 - accuracy: 0.9815 - val_loss: 0.0189 - val_accuracy: 1.0000\n",
            "Epoch 61/100\n",
            "33/33 [==============================] - 0s 5ms/step - loss: 0.0474 - accuracy: 0.9815 - val_loss: 0.0188 - val_accuracy: 1.0000\n",
            "Epoch 62/100\n",
            "33/33 [==============================] - 0s 5ms/step - loss: 0.0465 - accuracy: 0.9815 - val_loss: 0.0185 - val_accuracy: 1.0000\n",
            "Epoch 63/100\n",
            "33/33 [==============================] - 0s 11ms/step - loss: 0.0447 - accuracy: 0.9815 - val_loss: 0.0181 - val_accuracy: 1.0000\n",
            "Epoch 64/100\n",
            "33/33 [==============================] - 0s 6ms/step - loss: 0.0452 - accuracy: 0.9815 - val_loss: 0.0181 - val_accuracy: 1.0000\n",
            "Epoch 65/100\n",
            "33/33 [==============================] - 0s 7ms/step - loss: 0.0453 - accuracy: 0.9815 - val_loss: 0.0175 - val_accuracy: 1.0000\n",
            "Epoch 66/100\n",
            "33/33 [==============================] - 0s 6ms/step - loss: 0.0437 - accuracy: 0.9815 - val_loss: 0.0173 - val_accuracy: 1.0000\n",
            "Epoch 67/100\n",
            "33/33 [==============================] - 0s 6ms/step - loss: 0.0422 - accuracy: 0.9815 - val_loss: 0.0171 - val_accuracy: 1.0000\n",
            "Epoch 68/100\n",
            "33/33 [==============================] - 0s 6ms/step - loss: 0.0422 - accuracy: 0.9815 - val_loss: 0.0170 - val_accuracy: 1.0000\n",
            "Epoch 69/100\n",
            "33/33 [==============================] - 0s 7ms/step - loss: 0.0418 - accuracy: 0.9815 - val_loss: 0.0168 - val_accuracy: 1.0000\n",
            "Epoch 70/100\n",
            "33/33 [==============================] - 0s 4ms/step - loss: 0.0406 - accuracy: 0.9815 - val_loss: 0.0165 - val_accuracy: 1.0000\n",
            "Epoch 71/100\n",
            "33/33 [==============================] - 0s 6ms/step - loss: 0.0399 - accuracy: 0.9815 - val_loss: 0.0165 - val_accuracy: 1.0000\n",
            "Epoch 72/100\n",
            "33/33 [==============================] - 0s 7ms/step - loss: 0.0394 - accuracy: 0.9815 - val_loss: 0.0168 - val_accuracy: 1.0000\n",
            "Epoch 73/100\n",
            "33/33 [==============================] - 0s 7ms/step - loss: 0.0385 - accuracy: 0.9815 - val_loss: 0.0162 - val_accuracy: 1.0000\n",
            "Epoch 74/100\n",
            "33/33 [==============================] - 0s 8ms/step - loss: 0.0387 - accuracy: 0.9815 - val_loss: 0.0163 - val_accuracy: 1.0000\n",
            "Epoch 75/100\n",
            "33/33 [==============================] - 0s 6ms/step - loss: 0.0379 - accuracy: 0.9877 - val_loss: 0.0164 - val_accuracy: 1.0000\n",
            "Epoch 76/100\n",
            "33/33 [==============================] - 0s 5ms/step - loss: 0.0376 - accuracy: 0.9846 - val_loss: 0.0163 - val_accuracy: 1.0000\n",
            "Epoch 77/100\n",
            "33/33 [==============================] - 0s 6ms/step - loss: 0.0368 - accuracy: 0.9846 - val_loss: 0.0164 - val_accuracy: 1.0000\n",
            "Epoch 78/100\n",
            "33/33 [==============================] - 0s 7ms/step - loss: 0.0369 - accuracy: 0.9846 - val_loss: 0.0162 - val_accuracy: 1.0000\n",
            "Epoch 79/100\n",
            "33/33 [==============================] - 0s 8ms/step - loss: 0.0356 - accuracy: 0.9877 - val_loss: 0.0167 - val_accuracy: 1.0000\n",
            "Epoch 80/100\n",
            "33/33 [==============================] - 0s 9ms/step - loss: 0.0360 - accuracy: 0.9877 - val_loss: 0.0171 - val_accuracy: 1.0000\n",
            "Epoch 81/100\n",
            "33/33 [==============================] - 0s 8ms/step - loss: 0.0349 - accuracy: 0.9877 - val_loss: 0.0167 - val_accuracy: 1.0000\n",
            "Epoch 82/100\n",
            "33/33 [==============================] - 0s 6ms/step - loss: 0.0342 - accuracy: 0.9846 - val_loss: 0.0163 - val_accuracy: 1.0000\n",
            "Epoch 83/100\n",
            "33/33 [==============================] - 0s 9ms/step - loss: 0.0332 - accuracy: 0.9908 - val_loss: 0.0170 - val_accuracy: 1.0000\n",
            "Epoch 84/100\n",
            "33/33 [==============================] - 0s 6ms/step - loss: 0.0332 - accuracy: 0.9908 - val_loss: 0.0167 - val_accuracy: 1.0000\n",
            "Epoch 85/100\n",
            "33/33 [==============================] - 0s 4ms/step - loss: 0.0325 - accuracy: 0.9908 - val_loss: 0.0173 - val_accuracy: 1.0000\n",
            "Epoch 86/100\n",
            "33/33 [==============================] - 0s 5ms/step - loss: 0.0323 - accuracy: 0.9908 - val_loss: 0.0173 - val_accuracy: 1.0000\n",
            "Epoch 87/100\n",
            "33/33 [==============================] - 0s 5ms/step - loss: 0.0319 - accuracy: 0.9877 - val_loss: 0.0178 - val_accuracy: 0.9878\n",
            "Epoch 88/100\n",
            "33/33 [==============================] - 0s 6ms/step - loss: 0.0316 - accuracy: 0.9908 - val_loss: 0.0171 - val_accuracy: 1.0000\n",
            "Epoch 89/100\n",
            "33/33 [==============================] - 0s 7ms/step - loss: 0.0306 - accuracy: 0.9908 - val_loss: 0.0177 - val_accuracy: 0.9878\n",
            "Epoch 90/100\n",
            "33/33 [==============================] - 0s 9ms/step - loss: 0.0306 - accuracy: 0.9877 - val_loss: 0.0180 - val_accuracy: 0.9878\n",
            "Epoch 91/100\n",
            "33/33 [==============================] - 0s 5ms/step - loss: 0.0306 - accuracy: 0.9908 - val_loss: 0.0190 - val_accuracy: 0.9878\n",
            "Epoch 92/100\n",
            "33/33 [==============================] - 0s 6ms/step - loss: 0.0291 - accuracy: 0.9908 - val_loss: 0.0186 - val_accuracy: 0.9878\n",
            "Epoch 93/100\n",
            "33/33 [==============================] - 0s 6ms/step - loss: 0.0299 - accuracy: 0.9908 - val_loss: 0.0191 - val_accuracy: 0.9878\n",
            "Epoch 94/100\n",
            "33/33 [==============================] - 0s 5ms/step - loss: 0.0288 - accuracy: 0.9908 - val_loss: 0.0198 - val_accuracy: 0.9878\n",
            "Epoch 95/100\n",
            "33/33 [==============================] - 0s 4ms/step - loss: 0.0286 - accuracy: 0.9908 - val_loss: 0.0197 - val_accuracy: 0.9878\n",
            "Epoch 96/100\n",
            "33/33 [==============================] - 0s 5ms/step - loss: 0.0278 - accuracy: 0.9938 - val_loss: 0.0206 - val_accuracy: 0.9878\n",
            "Epoch 97/100\n",
            "33/33 [==============================] - 0s 4ms/step - loss: 0.0276 - accuracy: 0.9908 - val_loss: 0.0213 - val_accuracy: 0.9878\n",
            "Epoch 98/100\n",
            "33/33 [==============================] - 0s 5ms/step - loss: 0.0266 - accuracy: 0.9908 - val_loss: 0.0218 - val_accuracy: 0.9878\n",
            "Epoch 99/100\n",
            "33/33 [==============================] - 0s 5ms/step - loss: 0.0266 - accuracy: 0.9908 - val_loss: 0.0213 - val_accuracy: 0.9878\n",
            "Epoch 100/100\n",
            "33/33 [==============================] - 0s 5ms/step - loss: 0.0260 - accuracy: 0.9969 - val_loss: 0.0215 - val_accuracy: 0.9878\n"
          ]
        },
        {
          "output_type": "execute_result",
          "data": {
            "text/plain": [
              "<keras.callbacks.History at 0x7f67d2799c10>"
            ]
          },
          "metadata": {},
          "execution_count": 7
        }
      ]
    },
    {
      "cell_type": "code",
      "source": [
        "#Function to make predictions 1 or 0 by probs\n",
        "def binary_predictions(deepmodel, array_features):\n",
        "  prob_array = np.round(deepmodel.predict(array_features),2)\n",
        "  list_pred = []\n",
        "  for i in prob_array:\n",
        "    if i[0] > i[1]:\n",
        "      list_pred.append(0)\n",
        "    else:\n",
        "      list_pred.append(1)\n",
        "  return list_pred"
      ],
      "metadata": {
        "id": "ULa2GjTKVlOw"
      },
      "execution_count": 8,
      "outputs": []
    },
    {
      "cell_type": "code",
      "source": [
        "#Predictions for the Test set\n",
        "y_pred = binary_predictions(model, X_test)\n",
        "#Make the y_test set unidimensional and binary again\n",
        "y_test_original = pd.DataFrame(y_test).idxmax(axis=1)"
      ],
      "metadata": {
        "id": "5sD5Cz-pV0Is"
      },
      "execution_count": 9,
      "outputs": []
    },
    {
      "cell_type": "code",
      "source": [
        "#Confussion matrix for test set\n",
        "cm_hep = confusion_matrix(y_test_original, y_pred)\n",
        "ConfusionMatrixDisplay(cm_hep).plot()\n",
        "plt.grid(b=None)"
      ],
      "metadata": {
        "colab": {
          "base_uri": "https://localhost:8080/",
          "height": 285
        },
        "id": "hS8TYXSGWF1v",
        "outputId": "3a114c4a-1643-4546-9f8e-1c1195cf889c"
      },
      "execution_count": 10,
      "outputs": [
        {
          "output_type": "display_data",
          "data": {
            "text/plain": [
              "<Figure size 432x288 with 2 Axes>"
            ],
            "image/png": "[encoded data removed]"
          },
          "metadata": {
            "needs_background": "light"
          }
        }
      ]
    },
    {
      "cell_type": "code",
      "source": [
        "#Classification report for test set data\n",
        "\n",
        "print(classification_report(y_test_original, y_pred, target_names=[\"Healthy\",\"Disease\"]))\n",
        "\n",
        "#>=.90 scores using all numerical features in f1-scores for all the classes"
      ],
      "metadata": {
        "colab": {
          "base_uri": "https://localhost:8080/"
        },
        "id": "J7E4NcvyWN-W",
        "outputId": "d18d16de-4d72-4761-f697-d778d0e381b8"
      },
      "execution_count": 11,
      "outputs": [
        {
          "output_type": "stream",
          "name": "stdout",
          "text": [
            "              precision    recall  f1-score   support\n",
            "\n",
            "     Healthy       0.99      1.00      0.99       158\n",
            "     Disease       1.00      0.88      0.94        17\n",
            "\n",
            "    accuracy                           0.99       175\n",
            "   macro avg       0.99      0.94      0.97       175\n",
            "weighted avg       0.99      0.99      0.99       175\n",
            "\n"
          ]
        }
      ]
    }
  ]
}